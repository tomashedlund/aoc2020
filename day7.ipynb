{
 "cells": [
  {
   "cell_type": "code",
   "execution_count": 135,
   "metadata": {},
   "outputs": [],
   "source": [
    "import pandas as pd"
   ]
  },
  {
   "cell_type": "code",
   "execution_count": 136,
   "metadata": {},
   "outputs": [],
   "source": [
    "f = open(\"C:\\\\Users\\\\TOHED\\\\Desktop\\\\day7.txt\", \"r\")\n",
    "data = pd.DataFrame(f.read().split(\"\\n\"), columns=[\"content\"])\n",
    "f.close()"
   ]
  },
  {
   "cell_type": "code",
   "execution_count": 137,
   "metadata": {},
   "outputs": [],
   "source": [
    "data = data[\"content\"].str.split(\" bags contain \", expand = True).rename(columns = {0: \"bag\", 1: \"content\"})"
   ]
  },
  {
   "cell_type": "code",
   "execution_count": 138,
   "metadata": {},
   "outputs": [],
   "source": [
    "data.drop(594, inplace=True)"
   ]
  },
  {
   "cell_type": "code",
   "execution_count": 139,
   "metadata": {},
   "outputs": [
    {
     "data": {
      "text/plain": [
       "103"
      ]
     },
     "execution_count": 139,
     "metadata": {},
     "output_type": "execute_result"
    }
   ],
   "source": [
    "def bagmania(bags, fullset,  data):\n",
    "    myset = set()\n",
    "    for bag in bags:\n",
    "        for x in data.bag[data[\"content\"].str.contains(bag)].tolist():\n",
    "            myset.add(x) \n",
    "            fullset.add(x)\n",
    "    if len(myset) == 0:\n",
    "        return fullset\n",
    "    else:\n",
    "        return bagmania(myset, fullset, data)\n",
    "    \n",
    "len(bagmania([\"shiny gold bag\"], set(), data))"
   ]
  },
  {
   "cell_type": "code",
   "execution_count": 140,
   "metadata": {},
   "outputs": [],
   "source": [
    "newdata = pd.DataFrame(list(zip(data[\"bag\"], data[\"content\"].str.split(\", \"))), columns = [\"bag\", \"content\"])"
   ]
  },
  {
   "cell_type": "code",
   "execution_count": 141,
   "metadata": {
    "scrolled": true
   },
   "outputs": [
    {
     "data": {
      "text/plain": [
       "1469"
      ]
     },
     "execution_count": 141,
     "metadata": {},
     "output_type": "execute_result"
    }
   ],
   "source": [
    "def bagmania2(content, mydata):\n",
    "    total = 1\n",
    "    for c in content:\n",
    "        if \"no other\" not in c:\n",
    "            total += (int(c[0]) * bagmania2(mydata[\"content\"][mydata[\"bag\"].str.contains(c[2:-5].strip())].iloc[0], mydata))\n",
    "        else:\n",
    "            return (1)\n",
    "    return total\n",
    "\n",
    "count=0\n",
    "for d in newdata[\"content\"][newdata[\"bag\"].str.contains(\"shiny gold\")].iloc[0]:\n",
    "    count += int(d[0]) * bagmania2(newdata[\"content\"][newdata[\"bag\"].str.contains(d[2:-5].strip())].iloc[0], newdata)\n",
    "count\n",
    "#print(bagmania2(newdata[\"content\"][newdata[\"bag\"].str.contains(\"shiny gold\")].iloc[0], newdata))"
   ]
  },
  {
   "cell_type": "code",
   "execution_count": null,
   "metadata": {},
   "outputs": [],
   "source": []
  }
 ],
 "metadata": {
  "kernelspec": {
   "display_name": "Python 3",
   "language": "python",
   "name": "python3"
  },
  "language_info": {
   "codemirror_mode": {
    "name": "ipython",
    "version": 3
   },
   "file_extension": ".py",
   "mimetype": "text/x-python",
   "name": "python",
   "nbconvert_exporter": "python",
   "pygments_lexer": "ipython3",
   "version": "3.8.3"
  }
 },
 "nbformat": 4,
 "nbformat_minor": 4
}
