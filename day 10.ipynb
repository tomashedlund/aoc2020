{
 "cells": [
  {
   "cell_type": "code",
   "execution_count": 135,
   "metadata": {},
   "outputs": [],
   "source": [
    "from collections import Counter"
   ]
  },
  {
   "cell_type": "code",
   "execution_count": 176,
   "metadata": {},
   "outputs": [],
   "source": [
    "f = open(\"C:\\\\Users\\\\TOHED\\\\Desktop\\\\Notebooks\\\\julkalender2020\\\\day10.txt\", \"r\")\n",
    "data = f.read().split(\"\\n\")\n",
    "f.close()"
   ]
  },
  {
   "cell_type": "code",
   "execution_count": 177,
   "metadata": {},
   "outputs": [],
   "source": [
    "data = data[:-1]"
   ]
  },
  {
   "cell_type": "code",
   "execution_count": 178,
   "metadata": {},
   "outputs": [],
   "source": [
    "data = sorted([int(i) for i in data])\n",
    "data.append(max(data)+3)"
   ]
  },
  {
   "cell_type": "code",
   "execution_count": 179,
   "metadata": {},
   "outputs": [
    {
     "name": "stdout",
     "output_type": "stream",
     "text": [
      "1904\n"
     ]
    }
   ],
   "source": [
    "data = [0] + data\n",
    "differences = []\n",
    "for i in range(1,len(data)):\n",
    "    differences.append(data[i]-data[i-1])\n",
    "count = Counter(differences)\n",
    "print(count[1]*count[3])"
   ]
  },
  {
   "cell_type": "code",
   "execution_count": 180,
   "metadata": {},
   "outputs": [],
   "source": [
    "combos = []\n",
    "for i in range(len(differences)):\n",
    "    count = 0\n",
    "    for j in differences[i:i+3]:\n",
    "        if j != 1:\n",
    "            break\n",
    "        count +1\n",
    "    combos.append(count^2)"
   ]
  },
  {
   "cell_type": "code",
   "execution_count": 182,
   "metadata": {},
   "outputs": [
    {
     "name": "stdout",
     "output_type": "stream",
     "text": [
      "10578455953408\n"
     ]
    }
   ],
   "source": [
    "count = 0\n",
    "suites = []\n",
    "for index in range(len(differences)):\n",
    "    if differences[index] == 1:\n",
    "        count += 1\n",
    "    else:\n",
    "        suites.append(count-1)\n",
    "        count = 0\n",
    "combos = 1\n",
    "for i in suites:\n",
    "    if i in [1,2]:\n",
    "        combos *= 2**i\n",
    "    elif i == 3:\n",
    "        combos *= (2**i)-1\n",
    "        \n",
    "print(combos)"
   ]
  },
  {
   "cell_type": "code",
   "execution_count": null,
   "metadata": {},
   "outputs": [],
   "source": []
  }
 ],
 "metadata": {
  "kernelspec": {
   "display_name": "Python 3",
   "language": "python",
   "name": "python3"
  },
  "language_info": {
   "codemirror_mode": {
    "name": "ipython",
    "version": 3
   },
   "file_extension": ".py",
   "mimetype": "text/x-python",
   "name": "python",
   "nbconvert_exporter": "python",
   "pygments_lexer": "ipython3",
   "version": "3.8.3"
  }
 },
 "nbformat": 4,
 "nbformat_minor": 4
}
