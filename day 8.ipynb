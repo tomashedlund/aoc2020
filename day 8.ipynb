{
 "cells": [
  {
   "cell_type": "code",
   "execution_count": 183,
   "metadata": {},
   "outputs": [],
   "source": [
    "import pandas as pd"
   ]
  },
  {
   "cell_type": "code",
   "execution_count": 184,
   "metadata": {},
   "outputs": [],
   "source": [
    "data = pd.read_csv(\"C:\\\\Users\\\\TOHED\\\\Desktop\\\\day8.txt\", names=[\"content\"])"
   ]
  },
  {
   "cell_type": "code",
   "execution_count": 185,
   "metadata": {},
   "outputs": [],
   "source": [
    "data = data['content'].str.split(\" \", expand = True)"
   ]
  },
  {
   "cell_type": "code",
   "execution_count": 186,
   "metadata": {},
   "outputs": [],
   "source": [
    "data.rename(columns = {0:\"command\",1:\"action\"}, inplace = True)"
   ]
  },
  {
   "cell_type": "code",
   "execution_count": 187,
   "metadata": {},
   "outputs": [
    {
     "data": {
      "text/html": [
       "<div>\n",
       "<style scoped>\n",
       "    .dataframe tbody tr th:only-of-type {\n",
       "        vertical-align: middle;\n",
       "    }\n",
       "\n",
       "    .dataframe tbody tr th {\n",
       "        vertical-align: top;\n",
       "    }\n",
       "\n",
       "    .dataframe thead th {\n",
       "        text-align: right;\n",
       "    }\n",
       "</style>\n",
       "<table border=\"1\" class=\"dataframe\">\n",
       "  <thead>\n",
       "    <tr style=\"text-align: right;\">\n",
       "      <th></th>\n",
       "      <th>command</th>\n",
       "      <th>action</th>\n",
       "    </tr>\n",
       "  </thead>\n",
       "  <tbody>\n",
       "    <tr>\n",
       "      <th>0</th>\n",
       "      <td>acc</td>\n",
       "      <td>+14</td>\n",
       "    </tr>\n",
       "    <tr>\n",
       "      <th>1</th>\n",
       "      <td>acc</td>\n",
       "      <td>+11</td>\n",
       "    </tr>\n",
       "    <tr>\n",
       "      <th>2</th>\n",
       "      <td>nop</td>\n",
       "      <td>+422</td>\n",
       "    </tr>\n",
       "    <tr>\n",
       "      <th>3</th>\n",
       "      <td>acc</td>\n",
       "      <td>+14</td>\n",
       "    </tr>\n",
       "    <tr>\n",
       "      <th>4</th>\n",
       "      <td>jmp</td>\n",
       "      <td>+443</td>\n",
       "    </tr>\n",
       "    <tr>\n",
       "      <th>...</th>\n",
       "      <td>...</td>\n",
       "      <td>...</td>\n",
       "    </tr>\n",
       "    <tr>\n",
       "      <th>600</th>\n",
       "      <td>acc</td>\n",
       "      <td>+17</td>\n",
       "    </tr>\n",
       "    <tr>\n",
       "      <th>601</th>\n",
       "      <td>acc</td>\n",
       "      <td>-10</td>\n",
       "    </tr>\n",
       "    <tr>\n",
       "      <th>602</th>\n",
       "      <td>acc</td>\n",
       "      <td>+22</td>\n",
       "    </tr>\n",
       "    <tr>\n",
       "      <th>603</th>\n",
       "      <td>acc</td>\n",
       "      <td>+10</td>\n",
       "    </tr>\n",
       "    <tr>\n",
       "      <th>604</th>\n",
       "      <td>jmp</td>\n",
       "      <td>+1</td>\n",
       "    </tr>\n",
       "  </tbody>\n",
       "</table>\n",
       "<p>605 rows × 2 columns</p>\n",
       "</div>"
      ],
      "text/plain": [
       "    command action\n",
       "0       acc    +14\n",
       "1       acc    +11\n",
       "2       nop   +422\n",
       "3       acc    +14\n",
       "4       jmp   +443\n",
       "..      ...    ...\n",
       "600     acc    +17\n",
       "601     acc    -10\n",
       "602     acc    +22\n",
       "603     acc    +10\n",
       "604     jmp     +1\n",
       "\n",
       "[605 rows x 2 columns]"
      ]
     },
     "execution_count": 187,
     "metadata": {},
     "output_type": "execute_result"
    }
   ],
   "source": [
    "data"
   ]
  },
  {
   "cell_type": "code",
   "execution_count": 188,
   "metadata": {},
   "outputs": [
    {
     "data": {
      "text/plain": [
       "-10"
      ]
     },
     "execution_count": 188,
     "metadata": {},
     "output_type": "execute_result"
    }
   ],
   "source": [
    "int(data[\"action\"].loc[601])"
   ]
  },
  {
   "cell_type": "code",
   "execution_count": 189,
   "metadata": {},
   "outputs": [
    {
     "data": {
      "text/plain": [
       "352"
      ]
     },
     "execution_count": 189,
     "metadata": {},
     "output_type": "execute_result"
    }
   ],
   "source": [
    "acc = 0\n",
    "index = set()\n",
    "i = 0\n",
    "\n",
    "while True:\n",
    "    if i not in index:\n",
    "        index.add(i)\n",
    "    else:\n",
    "        break\n",
    "    if data[\"command\"].iloc[i] == \"acc\":\n",
    "        acc += int(data[\"action\"].iloc[i])\n",
    "    elif data[\"command\"].iloc[i] == \"jmp\":\n",
    "        i += int(data[\"action\"].iloc[i])-1\n",
    "    i += 1\n",
    "        \n",
    "i"
   ]
  },
  {
   "cell_type": "code",
   "execution_count": 210,
   "metadata": {},
   "outputs": [],
   "source": [
    "solutions = dict()\n",
    "terminates = dict()\n",
    "newdata = pd.DataFrame()\n",
    "for rowindex, nop in data[data[\"command\"]==\"nop\"].iterrows():\n",
    "    acc = 0\n",
    "    index = set()\n",
    "    i = 0\n",
    "    newdata = data\n",
    "    newdata[\"command\"].iloc[rowindex] = \"jmp\"\n",
    "    terminates[rowindex] = True\n",
    "    while i<=len(data):\n",
    "        if i not in index:\n",
    "            index.add(i)\n",
    "        else:\n",
    "            terminates[rowindex] = False\n",
    "            break\n",
    "        if newdata[\"command\"].iloc[i] == \"acc\":\n",
    "            acc += int(newdata[\"action\"].iloc[i])\n",
    "        elif newdata[\"command\"].iloc[i] == \"jmp\":\n",
    "            i += int(newdata[\"action\"].iloc[i])-1\n",
    "        i += 1\n",
    "    solutions[rowindex] = acc\n",
    "    newdata[\"command\"].iloc[rowindex] = \"nop\"\n",
    "        \n",
    "for key, value in terminates.items():\n",
    "    if value:\n",
    "        print(solutions[key])"
   ]
  },
  {
   "cell_type": "code",
   "execution_count": 211,
   "metadata": {},
   "outputs": [
    {
     "name": "stdout",
     "output_type": "stream",
     "text": [
      "1532\n"
     ]
    }
   ],
   "source": [
    "solutions = dict()\n",
    "terminates = dict()\n",
    "newdata = pd.DataFrame()\n",
    "for rowindex, nop in data[data[\"command\"]==\"jmp\"].iterrows():\n",
    "    acc = 0\n",
    "    index = set()\n",
    "    i = 0\n",
    "    newdata = data\n",
    "    newdata[\"command\"].iloc[rowindex] = \"nop\"\n",
    "    terminates[rowindex] = True\n",
    "    while True:\n",
    "        if i>=len(data):\n",
    "            break\n",
    "        if i not in index:\n",
    "            index.add(i)\n",
    "        else:\n",
    "            terminates[rowindex] = False\n",
    "            break\n",
    "        if i >= len(data):\n",
    "            break\n",
    "        if newdata[\"command\"].iloc[i] == \"acc\":\n",
    "            acc += int(newdata[\"action\"].iloc[i])\n",
    "        elif newdata[\"command\"].iloc[i] == \"jmp\":\n",
    "            i += int(newdata[\"action\"].iloc[i])-1\n",
    "        i += 1\n",
    "    solutions[rowindex] = acc\n",
    "    newdata[\"command\"].iloc[rowindex] = \"jmp\"\n",
    "        \n",
    "for key, value in terminates.items():\n",
    "    if value:\n",
    "        print(solutions[key])"
   ]
  },
  {
   "cell_type": "code",
   "execution_count": null,
   "metadata": {},
   "outputs": [],
   "source": []
  }
 ],
 "metadata": {
  "kernelspec": {
   "display_name": "Python 3",
   "language": "python",
   "name": "python3"
  },
  "language_info": {
   "codemirror_mode": {
    "name": "ipython",
    "version": 3
   },
   "file_extension": ".py",
   "mimetype": "text/x-python",
   "name": "python",
   "nbconvert_exporter": "python",
   "pygments_lexer": "ipython3",
   "version": "3.8.3"
  }
 },
 "nbformat": 4,
 "nbformat_minor": 4
}
